{
 "cells": [
  {
   "cell_type": "markdown",
   "id": "dfdf5748-38d8-403e-b8cd-d825baa48cc5",
   "metadata": {},
   "source": [
    "# CHƯƠNG TRÌNH TRẢ LỜI CÁC BÀI TOÁN THỰC TẾ CỦA MỘT DOANH NGHIỆP:\n",
    "- Tháng nào có doanh số tốt nhất? Doanh số tháng đó là bao nhiêu?\n",
    "- Thành phố nào có doanh số cao nhất?\n",
    "- Doanh nghiệp cần chiếu quảng cáo vào khung thời gian nào để tăng khả năng mua hàng của khách hàng?\n",
    "- Những sản phẩm nào thường được bán cùng nhau?\n",
    "- Sản phẩm nào được bán nhiều nhất? Giả thiết của bạn về lý do sản phẩm này được bán nhiều nhất là gì?"
   ]
  },
  {
   "cell_type": "markdown",
   "id": "34c9de33-2bf4-431f-b8e5-6d099416cb87",
   "metadata": {},
   "source": [
    "## 1) IMport librarys & Data"
   ]
  },
  {
   "cell_type": "code",
   "execution_count": 177,
   "id": "3e7fcd64-f241-4ad9-8f41-2e7425ebc1c7",
   "metadata": {
    "tags": []
   },
   "outputs": [],
   "source": [
    "import pandas as pd\n",
    "import numpy as np\n",
    "import seaborn as sns\n",
    "import os\n",
    "import matplotlib.pyplot as plt\n",
    "%matplotlib inline"
   ]
  },
  {
   "cell_type": "code",
   "execution_count": 2,
   "id": "77bc0f37-e425-45fd-be7f-976e277dfeb7",
   "metadata": {
    "tags": []
   },
   "outputs": [
    {
     "data": {
      "text/plain": [
       "'C:\\\\Users\\\\ADMIN\\\\Downloads\\\\Project\\\\Sales Reporting -20240505T073101Z-001\\\\Sales Reporting\\\\\\\\'"
      ]
     },
     "execution_count": 2,
     "metadata": {},
     "output_type": "execute_result"
    }
   ],
   "source": [
    "path = r\"C:\\Users\\ADMIN\\Downloads\\Project\\Sales Reporting -20240505T073101Z-001\\Sales Reporting\\\\\"\n",
    "path"
   ]
  },
  {
   "cell_type": "code",
   "execution_count": 3,
   "id": "0b4be861-f723-486d-b1c4-0f5c34f9ebe6",
   "metadata": {
    "tags": []
   },
   "outputs": [],
   "source": [
    "frames = []\n",
    "all_length = []\n",
    "for file in os.listdir(path):\n",
    "    filepath = path + file\n",
    "    df1 = pd.read_csv(filepath)\n",
    "    frames.append(df1)\n",
    "    result = pd.concat(frames)\n",
    "    length = len(df1)\n",
    "    all_length.append(length)\n",
    "df = result\n",
    "df.to_csv(\"annualSales2019.csv\", index = False)"
   ]
  },
  {
   "cell_type": "code",
   "execution_count": 4,
   "id": "a1a47801-90d9-43f0-87f3-11e56392897a",
   "metadata": {
    "tags": []
   },
   "outputs": [
    {
     "name": "stdout",
     "output_type": "stream",
     "text": [
      "186850\n"
     ]
    }
   ],
   "source": [
    "print(sum(all_length))"
   ]
  },
  {
   "cell_type": "code",
   "execution_count": 5,
   "id": "1897abd7-0ad0-4c24-a743-18fd96bdaba3",
   "metadata": {
    "tags": []
   },
   "outputs": [
    {
     "data": {
      "text/html": [
       "<div>\n",
       "<style scoped>\n",
       "    .dataframe tbody tr th:only-of-type {\n",
       "        vertical-align: middle;\n",
       "    }\n",
       "\n",
       "    .dataframe tbody tr th {\n",
       "        vertical-align: top;\n",
       "    }\n",
       "\n",
       "    .dataframe thead th {\n",
       "        text-align: right;\n",
       "    }\n",
       "</style>\n",
       "<table border=\"1\" class=\"dataframe\">\n",
       "  <thead>\n",
       "    <tr style=\"text-align: right;\">\n",
       "      <th></th>\n",
       "      <th>Order ID</th>\n",
       "      <th>Product</th>\n",
       "      <th>Quantity Ordered</th>\n",
       "      <th>Price Each</th>\n",
       "      <th>Order Date</th>\n",
       "      <th>Purchase Address</th>\n",
       "    </tr>\n",
       "  </thead>\n",
       "  <tbody>\n",
       "    <tr>\n",
       "      <th>0</th>\n",
       "      <td>141234</td>\n",
       "      <td>iPhone</td>\n",
       "      <td>1</td>\n",
       "      <td>700</td>\n",
       "      <td>01/22/19 21:25</td>\n",
       "      <td>944 Walnut St, Boston, MA 02215</td>\n",
       "    </tr>\n",
       "    <tr>\n",
       "      <th>1</th>\n",
       "      <td>141235</td>\n",
       "      <td>Lightning Charging Cable</td>\n",
       "      <td>1</td>\n",
       "      <td>14.95</td>\n",
       "      <td>01/28/19 14:15</td>\n",
       "      <td>185 Maple St, Portland, OR 97035</td>\n",
       "    </tr>\n",
       "    <tr>\n",
       "      <th>2</th>\n",
       "      <td>141236</td>\n",
       "      <td>Wired Headphones</td>\n",
       "      <td>2</td>\n",
       "      <td>11.99</td>\n",
       "      <td>01/17/19 13:33</td>\n",
       "      <td>538 Adams St, San Francisco, CA 94016</td>\n",
       "    </tr>\n",
       "    <tr>\n",
       "      <th>3</th>\n",
       "      <td>141237</td>\n",
       "      <td>27in FHD Monitor</td>\n",
       "      <td>1</td>\n",
       "      <td>149.99</td>\n",
       "      <td>01/05/19 20:33</td>\n",
       "      <td>738 10th St, Los Angeles, CA 90001</td>\n",
       "    </tr>\n",
       "    <tr>\n",
       "      <th>4</th>\n",
       "      <td>141238</td>\n",
       "      <td>Wired Headphones</td>\n",
       "      <td>1</td>\n",
       "      <td>11.99</td>\n",
       "      <td>01/25/19 11:59</td>\n",
       "      <td>387 10th St, Austin, TX 73301</td>\n",
       "    </tr>\n",
       "    <tr>\n",
       "      <th>...</th>\n",
       "      <td>...</td>\n",
       "      <td>...</td>\n",
       "      <td>...</td>\n",
       "      <td>...</td>\n",
       "      <td>...</td>\n",
       "      <td>...</td>\n",
       "    </tr>\n",
       "    <tr>\n",
       "      <th>11681</th>\n",
       "      <td>259353</td>\n",
       "      <td>AAA Batteries (4-pack)</td>\n",
       "      <td>3</td>\n",
       "      <td>2.99</td>\n",
       "      <td>09/17/19 20:56</td>\n",
       "      <td>840 Highland St, Los Angeles, CA 90001</td>\n",
       "    </tr>\n",
       "    <tr>\n",
       "      <th>11682</th>\n",
       "      <td>259354</td>\n",
       "      <td>iPhone</td>\n",
       "      <td>1</td>\n",
       "      <td>700</td>\n",
       "      <td>09/01/19 16:00</td>\n",
       "      <td>216 Dogwood St, San Francisco, CA 94016</td>\n",
       "    </tr>\n",
       "    <tr>\n",
       "      <th>11683</th>\n",
       "      <td>259355</td>\n",
       "      <td>iPhone</td>\n",
       "      <td>1</td>\n",
       "      <td>700</td>\n",
       "      <td>09/23/19 07:39</td>\n",
       "      <td>220 12th St, San Francisco, CA 94016</td>\n",
       "    </tr>\n",
       "    <tr>\n",
       "      <th>11684</th>\n",
       "      <td>259356</td>\n",
       "      <td>34in Ultrawide Monitor</td>\n",
       "      <td>1</td>\n",
       "      <td>379.99</td>\n",
       "      <td>09/19/19 17:30</td>\n",
       "      <td>511 Forest St, San Francisco, CA 94016</td>\n",
       "    </tr>\n",
       "    <tr>\n",
       "      <th>11685</th>\n",
       "      <td>259357</td>\n",
       "      <td>USB-C Charging Cable</td>\n",
       "      <td>1</td>\n",
       "      <td>11.95</td>\n",
       "      <td>09/30/19 00:18</td>\n",
       "      <td>250 Meadow St, San Francisco, CA 94016</td>\n",
       "    </tr>\n",
       "  </tbody>\n",
       "</table>\n",
       "<p>186850 rows × 6 columns</p>\n",
       "</div>"
      ],
      "text/plain": [
       "      Order ID                   Product Quantity Ordered Price Each  \\\n",
       "0       141234                    iPhone                1        700   \n",
       "1       141235  Lightning Charging Cable                1      14.95   \n",
       "2       141236          Wired Headphones                2      11.99   \n",
       "3       141237          27in FHD Monitor                1     149.99   \n",
       "4       141238          Wired Headphones                1      11.99   \n",
       "...        ...                       ...              ...        ...   \n",
       "11681   259353    AAA Batteries (4-pack)                3       2.99   \n",
       "11682   259354                    iPhone                1        700   \n",
       "11683   259355                    iPhone                1        700   \n",
       "11684   259356    34in Ultrawide Monitor                1     379.99   \n",
       "11685   259357      USB-C Charging Cable                1      11.95   \n",
       "\n",
       "           Order Date                         Purchase Address  \n",
       "0      01/22/19 21:25          944 Walnut St, Boston, MA 02215  \n",
       "1      01/28/19 14:15         185 Maple St, Portland, OR 97035  \n",
       "2      01/17/19 13:33    538 Adams St, San Francisco, CA 94016  \n",
       "3      01/05/19 20:33       738 10th St, Los Angeles, CA 90001  \n",
       "4      01/25/19 11:59            387 10th St, Austin, TX 73301  \n",
       "...               ...                                      ...  \n",
       "11681  09/17/19 20:56   840 Highland St, Los Angeles, CA 90001  \n",
       "11682  09/01/19 16:00  216 Dogwood St, San Francisco, CA 94016  \n",
       "11683  09/23/19 07:39     220 12th St, San Francisco, CA 94016  \n",
       "11684  09/19/19 17:30   511 Forest St, San Francisco, CA 94016  \n",
       "11685  09/30/19 00:18   250 Meadow St, San Francisco, CA 94016  \n",
       "\n",
       "[186850 rows x 6 columns]"
      ]
     },
     "execution_count": 5,
     "metadata": {},
     "output_type": "execute_result"
    }
   ],
   "source": [
    "df"
   ]
  },
  {
   "cell_type": "markdown",
   "id": "9ee4b39d-70fe-45f2-9d43-284841d62e40",
   "metadata": {},
   "source": [
    "## 2) EDA & Data Wrangling"
   ]
  },
  {
   "cell_type": "code",
   "execution_count": 6,
   "id": "fd5abd04-5d94-4a42-a976-d54674d6ff02",
   "metadata": {
    "tags": []
   },
   "outputs": [
    {
     "name": "stdout",
     "output_type": "stream",
     "text": [
      "<class 'pandas.core.frame.DataFrame'>\n",
      "Index: 186850 entries, 0 to 11685\n",
      "Data columns (total 6 columns):\n",
      " #   Column            Non-Null Count   Dtype \n",
      "---  ------            --------------   ----- \n",
      " 0   Order ID          186305 non-null  object\n",
      " 1   Product           186305 non-null  object\n",
      " 2   Quantity Ordered  186305 non-null  object\n",
      " 3   Price Each        186305 non-null  object\n",
      " 4   Order Date        186305 non-null  object\n",
      " 5   Purchase Address  186305 non-null  object\n",
      "dtypes: object(6)\n",
      "memory usage: 10.0+ MB\n"
     ]
    }
   ],
   "source": [
    "df.info()"
   ]
  },
  {
   "cell_type": "code",
   "execution_count": 7,
   "id": "ee6929b8-8439-429c-ac77-d58e76faf223",
   "metadata": {
    "tags": []
   },
   "outputs": [
    {
     "data": {
      "text/plain": [
       "1162"
      ]
     },
     "execution_count": 7,
     "metadata": {},
     "output_type": "execute_result"
    }
   ],
   "source": [
    "df.duplicated().sum()"
   ]
  },
  {
   "cell_type": "code",
   "execution_count": 8,
   "id": "a37ff960-b5c5-40d6-8ffa-35bc435ee6ed",
   "metadata": {
    "tags": []
   },
   "outputs": [
    {
     "data": {
      "text/plain": [
       "Order ID            545\n",
       "Product             545\n",
       "Quantity Ordered    545\n",
       "Price Each          545\n",
       "Order Date          545\n",
       "Purchase Address    545\n",
       "dtype: int64"
      ]
     },
     "execution_count": 8,
     "metadata": {},
     "output_type": "execute_result"
    }
   ],
   "source": [
    "df.isnull().sum()"
   ]
  },
  {
   "cell_type": "code",
   "execution_count": 9,
   "id": "5bd65ac3-39f7-489e-bc0f-29137a6c709f",
   "metadata": {
    "tags": []
   },
   "outputs": [
    {
     "data": {
      "text/plain": [
       "Order ID            0\n",
       "Product             0\n",
       "Quantity Ordered    0\n",
       "Price Each          0\n",
       "Order Date          0\n",
       "Purchase Address    0\n",
       "dtype: int64"
      ]
     },
     "execution_count": 9,
     "metadata": {},
     "output_type": "execute_result"
    }
   ],
   "source": [
    "df=df.dropna(how='all')\n",
    "df.isnull().sum()"
   ]
  },
  {
   "cell_type": "code",
   "execution_count": 10,
   "id": "f6085d8d-60ca-43a4-9886-3a41c4887185",
   "metadata": {
    "tags": []
   },
   "outputs": [
    {
     "name": "stdout",
     "output_type": "stream",
     "text": [
      "<class 'pandas.core.frame.DataFrame'>\n",
      "Index: 186305 entries, 0 to 11685\n",
      "Data columns (total 6 columns):\n",
      " #   Column            Non-Null Count   Dtype \n",
      "---  ------            --------------   ----- \n",
      " 0   Order ID          186305 non-null  object\n",
      " 1   Product           186305 non-null  object\n",
      " 2   Quantity Ordered  186305 non-null  object\n",
      " 3   Price Each        186305 non-null  object\n",
      " 4   Order Date        186305 non-null  object\n",
      " 5   Purchase Address  186305 non-null  object\n",
      "dtypes: object(6)\n",
      "memory usage: 9.9+ MB\n"
     ]
    }
   ],
   "source": [
    "df.info()"
   ]
  },
  {
   "cell_type": "code",
   "execution_count": 11,
   "id": "78fd59fb-d578-4bf5-a316-578db78a7a2b",
   "metadata": {
    "tags": []
   },
   "outputs": [
    {
     "data": {
      "text/plain": [
       "0        False\n",
       "1        False\n",
       "2        False\n",
       "3        False\n",
       "4        False\n",
       "         ...  \n",
       "11681    False\n",
       "11682    False\n",
       "11683    False\n",
       "11684    False\n",
       "11685    False\n",
       "Length: 186305, dtype: bool"
      ]
     },
     "execution_count": 11,
     "metadata": {},
     "output_type": "execute_result"
    }
   ],
   "source": [
    "df.duplicated()"
   ]
  },
  {
   "cell_type": "code",
   "execution_count": 12,
   "id": "b844207f-97bf-4486-83d5-b8dbb59c590e",
   "metadata": {
    "tags": []
   },
   "outputs": [],
   "source": [
    "df2 = df.drop_duplicates()"
   ]
  },
  {
   "cell_type": "code",
   "execution_count": 13,
   "id": "55320fbe-419d-46ae-8ba7-b90cdc98a8da",
   "metadata": {
    "tags": []
   },
   "outputs": [
    {
     "data": {
      "text/plain": [
       "0"
      ]
     },
     "execution_count": 13,
     "metadata": {},
     "output_type": "execute_result"
    }
   ],
   "source": [
    "df2.duplicated().sum()"
   ]
  },
  {
   "cell_type": "code",
   "execution_count": 14,
   "id": "fe31e46c-bef3-4301-addf-bd96ec26a7a3",
   "metadata": {
    "tags": []
   },
   "outputs": [
    {
     "data": {
      "text/html": [
       "<div>\n",
       "<style scoped>\n",
       "    .dataframe tbody tr th:only-of-type {\n",
       "        vertical-align: middle;\n",
       "    }\n",
       "\n",
       "    .dataframe tbody tr th {\n",
       "        vertical-align: top;\n",
       "    }\n",
       "\n",
       "    .dataframe thead th {\n",
       "        text-align: right;\n",
       "    }\n",
       "</style>\n",
       "<table border=\"1\" class=\"dataframe\">\n",
       "  <thead>\n",
       "    <tr style=\"text-align: right;\">\n",
       "      <th></th>\n",
       "      <th>Order ID</th>\n",
       "      <th>Product</th>\n",
       "      <th>Quantity Ordered</th>\n",
       "      <th>Price Each</th>\n",
       "      <th>Order Date</th>\n",
       "      <th>Purchase Address</th>\n",
       "    </tr>\n",
       "  </thead>\n",
       "  <tbody>\n",
       "    <tr>\n",
       "      <th>0</th>\n",
       "      <td>141234</td>\n",
       "      <td>iPhone</td>\n",
       "      <td>1</td>\n",
       "      <td>700</td>\n",
       "      <td>01/22/19 21:25</td>\n",
       "      <td>944 Walnut St, Boston, MA 02215</td>\n",
       "    </tr>\n",
       "    <tr>\n",
       "      <th>1</th>\n",
       "      <td>141235</td>\n",
       "      <td>Lightning Charging Cable</td>\n",
       "      <td>1</td>\n",
       "      <td>14.95</td>\n",
       "      <td>01/28/19 14:15</td>\n",
       "      <td>185 Maple St, Portland, OR 97035</td>\n",
       "    </tr>\n",
       "    <tr>\n",
       "      <th>2</th>\n",
       "      <td>141236</td>\n",
       "      <td>Wired Headphones</td>\n",
       "      <td>2</td>\n",
       "      <td>11.99</td>\n",
       "      <td>01/17/19 13:33</td>\n",
       "      <td>538 Adams St, San Francisco, CA 94016</td>\n",
       "    </tr>\n",
       "    <tr>\n",
       "      <th>3</th>\n",
       "      <td>141237</td>\n",
       "      <td>27in FHD Monitor</td>\n",
       "      <td>1</td>\n",
       "      <td>149.99</td>\n",
       "      <td>01/05/19 20:33</td>\n",
       "      <td>738 10th St, Los Angeles, CA 90001</td>\n",
       "    </tr>\n",
       "    <tr>\n",
       "      <th>4</th>\n",
       "      <td>141238</td>\n",
       "      <td>Wired Headphones</td>\n",
       "      <td>1</td>\n",
       "      <td>11.99</td>\n",
       "      <td>01/25/19 11:59</td>\n",
       "      <td>387 10th St, Austin, TX 73301</td>\n",
       "    </tr>\n",
       "    <tr>\n",
       "      <th>...</th>\n",
       "      <td>...</td>\n",
       "      <td>...</td>\n",
       "      <td>...</td>\n",
       "      <td>...</td>\n",
       "      <td>...</td>\n",
       "      <td>...</td>\n",
       "    </tr>\n",
       "    <tr>\n",
       "      <th>11681</th>\n",
       "      <td>259353</td>\n",
       "      <td>AAA Batteries (4-pack)</td>\n",
       "      <td>3</td>\n",
       "      <td>2.99</td>\n",
       "      <td>09/17/19 20:56</td>\n",
       "      <td>840 Highland St, Los Angeles, CA 90001</td>\n",
       "    </tr>\n",
       "    <tr>\n",
       "      <th>11682</th>\n",
       "      <td>259354</td>\n",
       "      <td>iPhone</td>\n",
       "      <td>1</td>\n",
       "      <td>700</td>\n",
       "      <td>09/01/19 16:00</td>\n",
       "      <td>216 Dogwood St, San Francisco, CA 94016</td>\n",
       "    </tr>\n",
       "    <tr>\n",
       "      <th>11683</th>\n",
       "      <td>259355</td>\n",
       "      <td>iPhone</td>\n",
       "      <td>1</td>\n",
       "      <td>700</td>\n",
       "      <td>09/23/19 07:39</td>\n",
       "      <td>220 12th St, San Francisco, CA 94016</td>\n",
       "    </tr>\n",
       "    <tr>\n",
       "      <th>11684</th>\n",
       "      <td>259356</td>\n",
       "      <td>34in Ultrawide Monitor</td>\n",
       "      <td>1</td>\n",
       "      <td>379.99</td>\n",
       "      <td>09/19/19 17:30</td>\n",
       "      <td>511 Forest St, San Francisco, CA 94016</td>\n",
       "    </tr>\n",
       "    <tr>\n",
       "      <th>11685</th>\n",
       "      <td>259357</td>\n",
       "      <td>USB-C Charging Cable</td>\n",
       "      <td>1</td>\n",
       "      <td>11.95</td>\n",
       "      <td>09/30/19 00:18</td>\n",
       "      <td>250 Meadow St, San Francisco, CA 94016</td>\n",
       "    </tr>\n",
       "  </tbody>\n",
       "</table>\n",
       "<p>185687 rows × 6 columns</p>\n",
       "</div>"
      ],
      "text/plain": [
       "      Order ID                   Product Quantity Ordered Price Each  \\\n",
       "0       141234                    iPhone                1        700   \n",
       "1       141235  Lightning Charging Cable                1      14.95   \n",
       "2       141236          Wired Headphones                2      11.99   \n",
       "3       141237          27in FHD Monitor                1     149.99   \n",
       "4       141238          Wired Headphones                1      11.99   \n",
       "...        ...                       ...              ...        ...   \n",
       "11681   259353    AAA Batteries (4-pack)                3       2.99   \n",
       "11682   259354                    iPhone                1        700   \n",
       "11683   259355                    iPhone                1        700   \n",
       "11684   259356    34in Ultrawide Monitor                1     379.99   \n",
       "11685   259357      USB-C Charging Cable                1      11.95   \n",
       "\n",
       "           Order Date                         Purchase Address  \n",
       "0      01/22/19 21:25          944 Walnut St, Boston, MA 02215  \n",
       "1      01/28/19 14:15         185 Maple St, Portland, OR 97035  \n",
       "2      01/17/19 13:33    538 Adams St, San Francisco, CA 94016  \n",
       "3      01/05/19 20:33       738 10th St, Los Angeles, CA 90001  \n",
       "4      01/25/19 11:59            387 10th St, Austin, TX 73301  \n",
       "...               ...                                      ...  \n",
       "11681  09/17/19 20:56   840 Highland St, Los Angeles, CA 90001  \n",
       "11682  09/01/19 16:00  216 Dogwood St, San Francisco, CA 94016  \n",
       "11683  09/23/19 07:39     220 12th St, San Francisco, CA 94016  \n",
       "11684  09/19/19 17:30   511 Forest St, San Francisco, CA 94016  \n",
       "11685  09/30/19 00:18   250 Meadow St, San Francisco, CA 94016  \n",
       "\n",
       "[185687 rows x 6 columns]"
      ]
     },
     "execution_count": 14,
     "metadata": {},
     "output_type": "execute_result"
    }
   ],
   "source": [
    "df2"
   ]
  },
  {
   "cell_type": "code",
   "execution_count": 15,
   "id": "a61eccbd-a25f-48e2-89fb-d3e7a4855a9a",
   "metadata": {
    "tags": []
   },
   "outputs": [
    {
     "data": {
      "text/plain": [
       "Quantity Ordered\n",
       "1                   168552\n",
       "2                    13324\n",
       "3                     2920\n",
       "4                      806\n",
       "Quantity Ordered       355\n",
       "5                      236\n",
       "6                       80\n",
       "7                       24\n",
       "8                        5\n",
       "9                        3\n",
       "Name: count, dtype: int64"
      ]
     },
     "execution_count": 15,
     "metadata": {},
     "output_type": "execute_result"
    }
   ],
   "source": [
    "df['Quantity Ordered'].value_counts()"
   ]
  },
  {
   "cell_type": "code",
   "execution_count": 16,
   "id": "3204c1ed-a42d-4392-86cf-477e4731f80c",
   "metadata": {
    "tags": []
   },
   "outputs": [
    {
     "data": {
      "text/plain": [
       "dtype('int32')"
      ]
     },
     "execution_count": 16,
     "metadata": {},
     "output_type": "execute_result"
    }
   ],
   "source": [
    "df=df[df['Quantity Ordered'] != \"Quantity Ordered\"]\n",
    "df['Quantity Ordered']=df['Quantity Ordered'].astype('int')\n",
    "df['Quantity Ordered'].dtype"
   ]
  },
  {
   "cell_type": "code",
   "execution_count": 17,
   "id": "6a64463b-171f-41ec-8aad-c2169555f586",
   "metadata": {
    "tags": []
   },
   "outputs": [
    {
     "data": {
      "text/plain": [
       "Order ID\n",
       "160873    5\n",
       "178158    4\n",
       "194253    4\n",
       "242936    4\n",
       "212334    4\n",
       "         ..\n",
       "310809    1\n",
       "310810    1\n",
       "310811    1\n",
       "310812    1\n",
       "259357    1\n",
       "Name: count, Length: 178437, dtype: int64"
      ]
     },
     "execution_count": 17,
     "metadata": {},
     "output_type": "execute_result"
    }
   ],
   "source": [
    "df['Order ID'].value_counts()"
   ]
  },
  {
   "cell_type": "code",
   "execution_count": 18,
   "id": "eef0b2ba-9d5b-4dcb-981f-b3baa5e5c62b",
   "metadata": {
    "tags": []
   },
   "outputs": [],
   "source": [
    "df['Order ID'] = df['Order ID'].astype('int')"
   ]
  },
  {
   "cell_type": "code",
   "execution_count": 19,
   "id": "42cec707-06f3-4493-96ac-e0af90e6a8a8",
   "metadata": {
    "tags": []
   },
   "outputs": [],
   "source": [
    "df['Price Each'] = df['Price Each'].astype('float')"
   ]
  },
  {
   "cell_type": "code",
   "execution_count": 133,
   "id": "88bb75aa-43f2-4b30-984e-3d4bdf3487ce",
   "metadata": {
    "tags": []
   },
   "outputs": [],
   "source": [
    "df['Order Date'] = pd.to_datetime(df['Order Date'])"
   ]
  },
  {
   "cell_type": "code",
   "execution_count": 21,
   "id": "58c58d51-734a-457e-80f3-e3c26a7b1245",
   "metadata": {
    "tags": []
   },
   "outputs": [
    {
     "name": "stdout",
     "output_type": "stream",
     "text": [
      "<class 'pandas.core.frame.DataFrame'>\n",
      "Index: 185950 entries, 0 to 11685\n",
      "Data columns (total 6 columns):\n",
      " #   Column            Non-Null Count   Dtype         \n",
      "---  ------            --------------   -----         \n",
      " 0   Order ID          185950 non-null  int32         \n",
      " 1   Product           185950 non-null  object        \n",
      " 2   Quantity Ordered  185950 non-null  int32         \n",
      " 3   Price Each        185950 non-null  float64       \n",
      " 4   Order Date        185950 non-null  datetime64[ns]\n",
      " 5   Purchase Address  185950 non-null  object        \n",
      "dtypes: datetime64[ns](1), float64(1), int32(2), object(2)\n",
      "memory usage: 8.5+ MB\n"
     ]
    }
   ],
   "source": [
    "df.info()"
   ]
  },
  {
   "cell_type": "code",
   "execution_count": 22,
   "id": "6272beef-4bf6-4fb8-adc7-98b19bbb6742",
   "metadata": {
    "tags": []
   },
   "outputs": [
    {
     "data": {
      "text/html": [
       "<div>\n",
       "<style scoped>\n",
       "    .dataframe tbody tr th:only-of-type {\n",
       "        vertical-align: middle;\n",
       "    }\n",
       "\n",
       "    .dataframe tbody tr th {\n",
       "        vertical-align: top;\n",
       "    }\n",
       "\n",
       "    .dataframe thead th {\n",
       "        text-align: right;\n",
       "    }\n",
       "</style>\n",
       "<table border=\"1\" class=\"dataframe\">\n",
       "  <thead>\n",
       "    <tr style=\"text-align: right;\">\n",
       "      <th></th>\n",
       "      <th>Order ID</th>\n",
       "      <th>Product</th>\n",
       "      <th>Quantity Ordered</th>\n",
       "      <th>Price Each</th>\n",
       "      <th>Order Date</th>\n",
       "      <th>Purchase Address</th>\n",
       "      <th>Month</th>\n",
       "    </tr>\n",
       "  </thead>\n",
       "  <tbody>\n",
       "    <tr>\n",
       "      <th>0</th>\n",
       "      <td>141234</td>\n",
       "      <td>iPhone</td>\n",
       "      <td>1</td>\n",
       "      <td>700.00</td>\n",
       "      <td>2019-01-22 21:25:00</td>\n",
       "      <td>944 Walnut St, Boston, MA 02215</td>\n",
       "      <td>1</td>\n",
       "    </tr>\n",
       "    <tr>\n",
       "      <th>1</th>\n",
       "      <td>141235</td>\n",
       "      <td>Lightning Charging Cable</td>\n",
       "      <td>1</td>\n",
       "      <td>14.95</td>\n",
       "      <td>2019-01-28 14:15:00</td>\n",
       "      <td>185 Maple St, Portland, OR 97035</td>\n",
       "      <td>1</td>\n",
       "    </tr>\n",
       "    <tr>\n",
       "      <th>2</th>\n",
       "      <td>141236</td>\n",
       "      <td>Wired Headphones</td>\n",
       "      <td>2</td>\n",
       "      <td>11.99</td>\n",
       "      <td>2019-01-17 13:33:00</td>\n",
       "      <td>538 Adams St, San Francisco, CA 94016</td>\n",
       "      <td>1</td>\n",
       "    </tr>\n",
       "    <tr>\n",
       "      <th>3</th>\n",
       "      <td>141237</td>\n",
       "      <td>27in FHD Monitor</td>\n",
       "      <td>1</td>\n",
       "      <td>149.99</td>\n",
       "      <td>2019-01-05 20:33:00</td>\n",
       "      <td>738 10th St, Los Angeles, CA 90001</td>\n",
       "      <td>1</td>\n",
       "    </tr>\n",
       "    <tr>\n",
       "      <th>4</th>\n",
       "      <td>141238</td>\n",
       "      <td>Wired Headphones</td>\n",
       "      <td>1</td>\n",
       "      <td>11.99</td>\n",
       "      <td>2019-01-25 11:59:00</td>\n",
       "      <td>387 10th St, Austin, TX 73301</td>\n",
       "      <td>1</td>\n",
       "    </tr>\n",
       "  </tbody>\n",
       "</table>\n",
       "</div>"
      ],
      "text/plain": [
       "   Order ID                   Product  Quantity Ordered  Price Each  \\\n",
       "0    141234                    iPhone                 1      700.00   \n",
       "1    141235  Lightning Charging Cable                 1       14.95   \n",
       "2    141236          Wired Headphones                 2       11.99   \n",
       "3    141237          27in FHD Monitor                 1      149.99   \n",
       "4    141238          Wired Headphones                 1       11.99   \n",
       "\n",
       "           Order Date                       Purchase Address  Month  \n",
       "0 2019-01-22 21:25:00        944 Walnut St, Boston, MA 02215      1  \n",
       "1 2019-01-28 14:15:00       185 Maple St, Portland, OR 97035      1  \n",
       "2 2019-01-17 13:33:00  538 Adams St, San Francisco, CA 94016      1  \n",
       "3 2019-01-05 20:33:00     738 10th St, Los Angeles, CA 90001      1  \n",
       "4 2019-01-25 11:59:00          387 10th St, Austin, TX 73301      1  "
      ]
     },
     "execution_count": 22,
     "metadata": {},
     "output_type": "execute_result"
    }
   ],
   "source": [
    "df['Month'] = df['Order Date'].dt.month\n",
    "df.head()"
   ]
  },
  {
   "cell_type": "code",
   "execution_count": 178,
   "id": "57f268d9-9c54-4ab8-bc79-016be41968c0",
   "metadata": {
    "tags": []
   },
   "outputs": [
    {
     "data": {
      "text/html": [
       "<div>\n",
       "<style scoped>\n",
       "    .dataframe tbody tr th:only-of-type {\n",
       "        vertical-align: middle;\n",
       "    }\n",
       "\n",
       "    .dataframe tbody tr th {\n",
       "        vertical-align: top;\n",
       "    }\n",
       "\n",
       "    .dataframe thead th {\n",
       "        text-align: right;\n",
       "    }\n",
       "</style>\n",
       "<table border=\"1\" class=\"dataframe\">\n",
       "  <thead>\n",
       "    <tr style=\"text-align: right;\">\n",
       "      <th></th>\n",
       "      <th>Order ID</th>\n",
       "      <th>Product</th>\n",
       "      <th>Quantity Ordered</th>\n",
       "      <th>Price Each</th>\n",
       "      <th>Amount</th>\n",
       "      <th>Order Date</th>\n",
       "      <th>Purchase Address</th>\n",
       "      <th>Month</th>\n",
       "      <th>Cities</th>\n",
       "      <th>hour</th>\n",
       "      <th>All Product</th>\n",
       "    </tr>\n",
       "  </thead>\n",
       "  <tbody>\n",
       "    <tr>\n",
       "      <th>0</th>\n",
       "      <td>141234</td>\n",
       "      <td>iPhone</td>\n",
       "      <td>1</td>\n",
       "      <td>700.00</td>\n",
       "      <td>700.00</td>\n",
       "      <td>2019-01-22 21:25:00</td>\n",
       "      <td>944 Walnut St, Boston, MA 02215</td>\n",
       "      <td>1</td>\n",
       "      <td>Boston</td>\n",
       "      <td>21</td>\n",
       "      <td>NaN</td>\n",
       "    </tr>\n",
       "    <tr>\n",
       "      <th>1</th>\n",
       "      <td>141235</td>\n",
       "      <td>Lightning Charging Cable</td>\n",
       "      <td>1</td>\n",
       "      <td>14.95</td>\n",
       "      <td>14.95</td>\n",
       "      <td>2019-01-28 14:15:00</td>\n",
       "      <td>185 Maple St, Portland, OR 97035</td>\n",
       "      <td>1</td>\n",
       "      <td>Portland</td>\n",
       "      <td>14</td>\n",
       "      <td>NaN</td>\n",
       "    </tr>\n",
       "    <tr>\n",
       "      <th>2</th>\n",
       "      <td>141236</td>\n",
       "      <td>Wired Headphones</td>\n",
       "      <td>2</td>\n",
       "      <td>11.99</td>\n",
       "      <td>23.98</td>\n",
       "      <td>2019-01-17 13:33:00</td>\n",
       "      <td>538 Adams St, San Francisco, CA 94016</td>\n",
       "      <td>1</td>\n",
       "      <td>San Francisco</td>\n",
       "      <td>13</td>\n",
       "      <td>NaN</td>\n",
       "    </tr>\n",
       "    <tr>\n",
       "      <th>3</th>\n",
       "      <td>141237</td>\n",
       "      <td>27in FHD Monitor</td>\n",
       "      <td>1</td>\n",
       "      <td>149.99</td>\n",
       "      <td>149.99</td>\n",
       "      <td>2019-01-05 20:33:00</td>\n",
       "      <td>738 10th St, Los Angeles, CA 90001</td>\n",
       "      <td>1</td>\n",
       "      <td>Los Angeles</td>\n",
       "      <td>20</td>\n",
       "      <td>NaN</td>\n",
       "    </tr>\n",
       "    <tr>\n",
       "      <th>4</th>\n",
       "      <td>141238</td>\n",
       "      <td>Wired Headphones</td>\n",
       "      <td>1</td>\n",
       "      <td>11.99</td>\n",
       "      <td>11.99</td>\n",
       "      <td>2019-01-25 11:59:00</td>\n",
       "      <td>387 10th St, Austin, TX 73301</td>\n",
       "      <td>1</td>\n",
       "      <td>Austin</td>\n",
       "      <td>11</td>\n",
       "      <td>NaN</td>\n",
       "    </tr>\n",
       "  </tbody>\n",
       "</table>\n",
       "</div>"
      ],
      "text/plain": [
       "   Order ID                   Product  Quantity Ordered  Price Each  Amount  \\\n",
       "0    141234                    iPhone                 1      700.00  700.00   \n",
       "1    141235  Lightning Charging Cable                 1       14.95   14.95   \n",
       "2    141236          Wired Headphones                 2       11.99   23.98   \n",
       "3    141237          27in FHD Monitor                 1      149.99  149.99   \n",
       "4    141238          Wired Headphones                 1       11.99   11.99   \n",
       "\n",
       "           Order Date                       Purchase Address  Month  \\\n",
       "0 2019-01-22 21:25:00        944 Walnut St, Boston, MA 02215      1   \n",
       "1 2019-01-28 14:15:00       185 Maple St, Portland, OR 97035      1   \n",
       "2 2019-01-17 13:33:00  538 Adams St, San Francisco, CA 94016      1   \n",
       "3 2019-01-05 20:33:00     738 10th St, Los Angeles, CA 90001      1   \n",
       "4 2019-01-25 11:59:00          387 10th St, Austin, TX 73301      1   \n",
       "\n",
       "           Cities  hour All Product  \n",
       "0          Boston    21         NaN  \n",
       "1        Portland    14         NaN  \n",
       "2   San Francisco    13         NaN  \n",
       "3     Los Angeles    20         NaN  \n",
       "4          Austin    11         NaN  "
      ]
     },
     "execution_count": 178,
     "metadata": {},
     "output_type": "execute_result"
    }
   ],
   "source": [
    "df['Amount'] = df['Quantity Ordered'] * df['Price Each']\n",
    "df.head()"
   ]
  },
  {
   "cell_type": "code",
   "execution_count": 179,
   "id": "42bab488-b765-44d0-9ec4-f2d4e1e74da4",
   "metadata": {
    "tags": []
   },
   "outputs": [
    {
     "data": {
      "text/html": [
       "<div>\n",
       "<style scoped>\n",
       "    .dataframe tbody tr th:only-of-type {\n",
       "        vertical-align: middle;\n",
       "    }\n",
       "\n",
       "    .dataframe tbody tr th {\n",
       "        vertical-align: top;\n",
       "    }\n",
       "\n",
       "    .dataframe thead th {\n",
       "        text-align: right;\n",
       "    }\n",
       "</style>\n",
       "<table border=\"1\" class=\"dataframe\">\n",
       "  <thead>\n",
       "    <tr style=\"text-align: right;\">\n",
       "      <th></th>\n",
       "      <th>Order ID</th>\n",
       "      <th>Product</th>\n",
       "      <th>Quantity Ordered</th>\n",
       "      <th>Price Each</th>\n",
       "      <th>Amount</th>\n",
       "      <th>Order Date</th>\n",
       "      <th>Purchase Address</th>\n",
       "      <th>Month</th>\n",
       "      <th>Cities</th>\n",
       "      <th>hour</th>\n",
       "      <th>All Product</th>\n",
       "    </tr>\n",
       "  </thead>\n",
       "  <tbody>\n",
       "    <tr>\n",
       "      <th>0</th>\n",
       "      <td>141234</td>\n",
       "      <td>iPhone</td>\n",
       "      <td>1</td>\n",
       "      <td>700.00</td>\n",
       "      <td>700.00</td>\n",
       "      <td>2019-01-22 21:25:00</td>\n",
       "      <td>944 Walnut St, Boston, MA 02215</td>\n",
       "      <td>1</td>\n",
       "      <td>Boston</td>\n",
       "      <td>21</td>\n",
       "      <td>NaN</td>\n",
       "    </tr>\n",
       "    <tr>\n",
       "      <th>1</th>\n",
       "      <td>141235</td>\n",
       "      <td>Lightning Charging Cable</td>\n",
       "      <td>1</td>\n",
       "      <td>14.95</td>\n",
       "      <td>14.95</td>\n",
       "      <td>2019-01-28 14:15:00</td>\n",
       "      <td>185 Maple St, Portland, OR 97035</td>\n",
       "      <td>1</td>\n",
       "      <td>Portland</td>\n",
       "      <td>14</td>\n",
       "      <td>NaN</td>\n",
       "    </tr>\n",
       "    <tr>\n",
       "      <th>2</th>\n",
       "      <td>141236</td>\n",
       "      <td>Wired Headphones</td>\n",
       "      <td>2</td>\n",
       "      <td>11.99</td>\n",
       "      <td>23.98</td>\n",
       "      <td>2019-01-17 13:33:00</td>\n",
       "      <td>538 Adams St, San Francisco, CA 94016</td>\n",
       "      <td>1</td>\n",
       "      <td>San Francisco</td>\n",
       "      <td>13</td>\n",
       "      <td>NaN</td>\n",
       "    </tr>\n",
       "    <tr>\n",
       "      <th>3</th>\n",
       "      <td>141237</td>\n",
       "      <td>27in FHD Monitor</td>\n",
       "      <td>1</td>\n",
       "      <td>149.99</td>\n",
       "      <td>149.99</td>\n",
       "      <td>2019-01-05 20:33:00</td>\n",
       "      <td>738 10th St, Los Angeles, CA 90001</td>\n",
       "      <td>1</td>\n",
       "      <td>Los Angeles</td>\n",
       "      <td>20</td>\n",
       "      <td>NaN</td>\n",
       "    </tr>\n",
       "    <tr>\n",
       "      <th>4</th>\n",
       "      <td>141238</td>\n",
       "      <td>Wired Headphones</td>\n",
       "      <td>1</td>\n",
       "      <td>11.99</td>\n",
       "      <td>11.99</td>\n",
       "      <td>2019-01-25 11:59:00</td>\n",
       "      <td>387 10th St, Austin, TX 73301</td>\n",
       "      <td>1</td>\n",
       "      <td>Austin</td>\n",
       "      <td>11</td>\n",
       "      <td>NaN</td>\n",
       "    </tr>\n",
       "  </tbody>\n",
       "</table>\n",
       "</div>"
      ],
      "text/plain": [
       "   Order ID                   Product  Quantity Ordered  Price Each  Amount  \\\n",
       "0    141234                    iPhone                 1      700.00  700.00   \n",
       "1    141235  Lightning Charging Cable                 1       14.95   14.95   \n",
       "2    141236          Wired Headphones                 2       11.99   23.98   \n",
       "3    141237          27in FHD Monitor                 1      149.99  149.99   \n",
       "4    141238          Wired Headphones                 1       11.99   11.99   \n",
       "\n",
       "           Order Date                       Purchase Address  Month  \\\n",
       "0 2019-01-22 21:25:00        944 Walnut St, Boston, MA 02215      1   \n",
       "1 2019-01-28 14:15:00       185 Maple St, Portland, OR 97035      1   \n",
       "2 2019-01-17 13:33:00  538 Adams St, San Francisco, CA 94016      1   \n",
       "3 2019-01-05 20:33:00     738 10th St, Los Angeles, CA 90001      1   \n",
       "4 2019-01-25 11:59:00          387 10th St, Austin, TX 73301      1   \n",
       "\n",
       "           Cities  hour All Product  \n",
       "0          Boston    21         NaN  \n",
       "1        Portland    14         NaN  \n",
       "2   San Francisco    13         NaN  \n",
       "3     Los Angeles    20         NaN  \n",
       "4          Austin    11         NaN  "
      ]
     },
     "execution_count": 179,
     "metadata": {},
     "output_type": "execute_result"
    }
   ],
   "source": [
    "moving_column = df.pop('Amount')\n",
    "df.insert(4,'Amount', moving_column)\n",
    "df.head()"
   ]
  },
  {
   "cell_type": "markdown",
   "id": "d6333393-789a-489d-9807-650dd2d46e93",
   "metadata": {},
   "source": [
    "## 3) Report"
   ]
  },
  {
   "cell_type": "markdown",
   "id": "fc2fd31e-80ba-49b0-b52f-eae1b1858eff",
   "metadata": {},
   "source": [
    "### Task 3.1: What was the best month for sales? How much was earned that month?"
   ]
  },
  {
   "cell_type": "code",
   "execution_count": 25,
   "id": "c2359a34-331f-4bf2-8a81-7f5254dade30",
   "metadata": {
    "tags": []
   },
   "outputs": [
    {
     "data": {
      "text/plain": [
       "Month\n",
       "1     1822256.73\n",
       "2     2202022.42\n",
       "3     2807100.38\n",
       "4     3390670.24\n",
       "5     3152606.75\n",
       "6     2577802.26\n",
       "7     2647775.76\n",
       "8     2244467.88\n",
       "9     2097560.13\n",
       "10    3736726.88\n",
       "11    3199603.20\n",
       "12    4613443.34\n",
       "Name: Amount, dtype: float64"
      ]
     },
     "execution_count": 25,
     "metadata": {},
     "output_type": "execute_result"
    }
   ],
   "source": [
    "sales_value = df.groupby('Month')['Amount'].sum()\n",
    "sales_value"
   ]
  },
  {
   "cell_type": "code",
   "execution_count": 27,
   "id": "88956fd7-1d3c-4723-b420-2618dffe004e",
   "metadata": {
    "tags": []
   },
   "outputs": [
    {
     "data": {
      "image/png": "[encoded data removed]",
      "text/plain": [
       "<Figure size 640x480 with 1 Axes>"
      ]
     },
     "metadata": {},
     "output_type": "display_data"
    }
   ],
   "source": [
    "plt.bar(x=df['Month'].sort_values(ascending = True).unique(), height = sales_value)\n",
    "plt.title('Revenue by month')\n",
    "plt.xlabel('Month')\n",
    "plt.ylabel('Sales')\n",
    "plt.xticks(df['Month'].sort_values(ascending = True).unique())\n",
    "plt.show()"
   ]
  },
  {
   "cell_type": "code",
   "execution_count": 28,
   "id": "db4d58cf-8347-4e7e-91f3-4c40ae669aab",
   "metadata": {
    "tags": []
   },
   "outputs": [
    {
     "data": {
      "text/plain": [
       "17314    12\n",
       "8357     12\n",
       "8335     12\n",
       "8336     12\n",
       "8337     12\n",
       "         ..\n",
       "6503      1\n",
       "6502      1\n",
       "6501      1\n",
       "6500      1\n",
       "0         1\n",
       "Name: Month, Length: 185950, dtype: int32"
      ]
     },
     "execution_count": 28,
     "metadata": {},
     "output_type": "execute_result"
    }
   ],
   "source": [
    "df['Month'].sort_values(ascending = False)"
   ]
  },
  {
   "cell_type": "code",
   "execution_count": 29,
   "id": "6248f994-1913-4aec-93a2-56fa95db54bb",
   "metadata": {},
   "outputs": [
    {
     "data": {
      "text/html": [
       "<div>\n",
       "<style scoped>\n",
       "    .dataframe tbody tr th:only-of-type {\n",
       "        vertical-align: middle;\n",
       "    }\n",
       "\n",
       "    .dataframe tbody tr th {\n",
       "        vertical-align: top;\n",
       "    }\n",
       "\n",
       "    .dataframe thead th {\n",
       "        text-align: right;\n",
       "    }\n",
       "</style>\n",
       "<table border=\"1\" class=\"dataframe\">\n",
       "  <thead>\n",
       "    <tr style=\"text-align: right;\">\n",
       "      <th></th>\n",
       "      <th>Order ID</th>\n",
       "      <th>Product</th>\n",
       "      <th>Quantity Ordered</th>\n",
       "      <th>Price Each</th>\n",
       "      <th>Amount</th>\n",
       "      <th>Order Date</th>\n",
       "      <th>Purchase Address</th>\n",
       "      <th>Month</th>\n",
       "      <th>Cities</th>\n",
       "    </tr>\n",
       "  </thead>\n",
       "  <tbody>\n",
       "    <tr>\n",
       "      <th>0</th>\n",
       "      <td>141234</td>\n",
       "      <td>iPhone</td>\n",
       "      <td>1</td>\n",
       "      <td>700.00</td>\n",
       "      <td>700.00</td>\n",
       "      <td>2019-01-22 21:25:00</td>\n",
       "      <td>944 Walnut St, Boston, MA 02215</td>\n",
       "      <td>1</td>\n",
       "      <td>Boston</td>\n",
       "    </tr>\n",
       "    <tr>\n",
       "      <th>1</th>\n",
       "      <td>141235</td>\n",
       "      <td>Lightning Charging Cable</td>\n",
       "      <td>1</td>\n",
       "      <td>14.95</td>\n",
       "      <td>14.95</td>\n",
       "      <td>2019-01-28 14:15:00</td>\n",
       "      <td>185 Maple St, Portland, OR 97035</td>\n",
       "      <td>1</td>\n",
       "      <td>Portland</td>\n",
       "    </tr>\n",
       "    <tr>\n",
       "      <th>2</th>\n",
       "      <td>141236</td>\n",
       "      <td>Wired Headphones</td>\n",
       "      <td>2</td>\n",
       "      <td>11.99</td>\n",
       "      <td>23.98</td>\n",
       "      <td>2019-01-17 13:33:00</td>\n",
       "      <td>538 Adams St, San Francisco, CA 94016</td>\n",
       "      <td>1</td>\n",
       "      <td>San Francisco</td>\n",
       "    </tr>\n",
       "    <tr>\n",
       "      <th>3</th>\n",
       "      <td>141237</td>\n",
       "      <td>27in FHD Monitor</td>\n",
       "      <td>1</td>\n",
       "      <td>149.99</td>\n",
       "      <td>149.99</td>\n",
       "      <td>2019-01-05 20:33:00</td>\n",
       "      <td>738 10th St, Los Angeles, CA 90001</td>\n",
       "      <td>1</td>\n",
       "      <td>Los Angeles</td>\n",
       "    </tr>\n",
       "    <tr>\n",
       "      <th>4</th>\n",
       "      <td>141238</td>\n",
       "      <td>Wired Headphones</td>\n",
       "      <td>1</td>\n",
       "      <td>11.99</td>\n",
       "      <td>11.99</td>\n",
       "      <td>2019-01-25 11:59:00</td>\n",
       "      <td>387 10th St, Austin, TX 73301</td>\n",
       "      <td>1</td>\n",
       "      <td>Austin</td>\n",
       "    </tr>\n",
       "    <tr>\n",
       "      <th>...</th>\n",
       "      <td>...</td>\n",
       "      <td>...</td>\n",
       "      <td>...</td>\n",
       "      <td>...</td>\n",
       "      <td>...</td>\n",
       "      <td>...</td>\n",
       "      <td>...</td>\n",
       "      <td>...</td>\n",
       "      <td>...</td>\n",
       "    </tr>\n",
       "    <tr>\n",
       "      <th>11681</th>\n",
       "      <td>259353</td>\n",
       "      <td>AAA Batteries (4-pack)</td>\n",
       "      <td>3</td>\n",
       "      <td>2.99</td>\n",
       "      <td>8.97</td>\n",
       "      <td>2019-09-17 20:56:00</td>\n",
       "      <td>840 Highland St, Los Angeles, CA 90001</td>\n",
       "      <td>9</td>\n",
       "      <td>Los Angeles</td>\n",
       "    </tr>\n",
       "    <tr>\n",
       "      <th>11682</th>\n",
       "      <td>259354</td>\n",
       "      <td>iPhone</td>\n",
       "      <td>1</td>\n",
       "      <td>700.00</td>\n",
       "      <td>700.00</td>\n",
       "      <td>2019-09-01 16:00:00</td>\n",
       "      <td>216 Dogwood St, San Francisco, CA 94016</td>\n",
       "      <td>9</td>\n",
       "      <td>San Francisco</td>\n",
       "    </tr>\n",
       "    <tr>\n",
       "      <th>11683</th>\n",
       "      <td>259355</td>\n",
       "      <td>iPhone</td>\n",
       "      <td>1</td>\n",
       "      <td>700.00</td>\n",
       "      <td>700.00</td>\n",
       "      <td>2019-09-23 07:39:00</td>\n",
       "      <td>220 12th St, San Francisco, CA 94016</td>\n",
       "      <td>9</td>\n",
       "      <td>San Francisco</td>\n",
       "    </tr>\n",
       "    <tr>\n",
       "      <th>11684</th>\n",
       "      <td>259356</td>\n",
       "      <td>34in Ultrawide Monitor</td>\n",
       "      <td>1</td>\n",
       "      <td>379.99</td>\n",
       "      <td>379.99</td>\n",
       "      <td>2019-09-19 17:30:00</td>\n",
       "      <td>511 Forest St, San Francisco, CA 94016</td>\n",
       "      <td>9</td>\n",
       "      <td>San Francisco</td>\n",
       "    </tr>\n",
       "    <tr>\n",
       "      <th>11685</th>\n",
       "      <td>259357</td>\n",
       "      <td>USB-C Charging Cable</td>\n",
       "      <td>1</td>\n",
       "      <td>11.95</td>\n",
       "      <td>11.95</td>\n",
       "      <td>2019-09-30 00:18:00</td>\n",
       "      <td>250 Meadow St, San Francisco, CA 94016</td>\n",
       "      <td>9</td>\n",
       "      <td>San Francisco</td>\n",
       "    </tr>\n",
       "  </tbody>\n",
       "</table>\n",
       "<p>185950 rows × 9 columns</p>\n",
       "</div>"
      ],
      "text/plain": [
       "       Order ID                   Product  Quantity Ordered  Price Each  \\\n",
       "0        141234                    iPhone                 1      700.00   \n",
       "1        141235  Lightning Charging Cable                 1       14.95   \n",
       "2        141236          Wired Headphones                 2       11.99   \n",
       "3        141237          27in FHD Monitor                 1      149.99   \n",
       "4        141238          Wired Headphones                 1       11.99   \n",
       "...         ...                       ...               ...         ...   \n",
       "11681    259353    AAA Batteries (4-pack)                 3        2.99   \n",
       "11682    259354                    iPhone                 1      700.00   \n",
       "11683    259355                    iPhone                 1      700.00   \n",
       "11684    259356    34in Ultrawide Monitor                 1      379.99   \n",
       "11685    259357      USB-C Charging Cable                 1       11.95   \n",
       "\n",
       "       Amount          Order Date                         Purchase Address  \\\n",
       "0      700.00 2019-01-22 21:25:00          944 Walnut St, Boston, MA 02215   \n",
       "1       14.95 2019-01-28 14:15:00         185 Maple St, Portland, OR 97035   \n",
       "2       23.98 2019-01-17 13:33:00    538 Adams St, San Francisco, CA 94016   \n",
       "3      149.99 2019-01-05 20:33:00       738 10th St, Los Angeles, CA 90001   \n",
       "4       11.99 2019-01-25 11:59:00            387 10th St, Austin, TX 73301   \n",
       "...       ...                 ...                                      ...   \n",
       "11681    8.97 2019-09-17 20:56:00   840 Highland St, Los Angeles, CA 90001   \n",
       "11682  700.00 2019-09-01 16:00:00  216 Dogwood St, San Francisco, CA 94016   \n",
       "11683  700.00 2019-09-23 07:39:00     220 12th St, San Francisco, CA 94016   \n",
       "11684  379.99 2019-09-19 17:30:00   511 Forest St, San Francisco, CA 94016   \n",
       "11685   11.95 2019-09-30 00:18:00   250 Meadow St, San Francisco, CA 94016   \n",
       "\n",
       "       Month          Cities  \n",
       "0          1          Boston  \n",
       "1          1        Portland  \n",
       "2          1   San Francisco  \n",
       "3          1     Los Angeles  \n",
       "4          1          Austin  \n",
       "...      ...             ...  \n",
       "11681      9     Los Angeles  \n",
       "11682      9   San Francisco  \n",
       "11683      9   San Francisco  \n",
       "11684      9   San Francisco  \n",
       "11685      9   San Francisco  \n",
       "\n",
       "[185950 rows x 9 columns]"
      ]
     },
     "execution_count": 29,
     "metadata": {},
     "output_type": "execute_result"
    }
   ],
   "source": [
    "df['Cities'] = df[\"Purchase Address\"].str.split(',').str.get(1)\n",
    "df"
   ]
  },
  {
   "cell_type": "markdown",
   "id": "4d28979d-0855-4ca0-a830-879cac5661f2",
   "metadata": {},
   "source": [
    "### Task 3.2: What city has the best sales?"
   ]
  },
  {
   "cell_type": "code",
   "execution_count": 174,
   "id": "ae219433-6eec-48ab-b073-7beecb31f6d2",
   "metadata": {
    "tags": []
   },
   "outputs": [
    {
     "data": {
      "text/plain": [
       "Cities\n",
       " Austin           1819581.75\n",
       " Portland         2320490.61\n",
       " Seattle          2747755.48\n",
       " Dallas           2767975.40\n",
       " Atlanta          2795498.58\n",
       " Boston           3661642.01\n",
       " New York City    4664317.43\n",
       " Los Angeles      5452570.80\n",
       " San Francisco    8262203.91\n",
       "Name: Amount, dtype: float64"
      ]
     },
     "execution_count": 174,
     "metadata": {},
     "output_type": "execute_result"
    }
   ],
   "source": [
    "sales_city = df.groupby('Cities')['Amount'].sum().sort_values(ascending = True)\n",
    "sales_city"
   ]
  },
  {
   "cell_type": "code",
   "execution_count": 175,
   "id": "412fc608-d094-444a-9f2f-466ab532eea9",
   "metadata": {
    "tags": []
   },
   "outputs": [
    {
     "data": {
      "image/png": "[encoded data removed]",
      "text/plain": [
       "<Figure size 640x480 with 1 Axes>"
      ]
     },
     "metadata": {},
     "output_type": "display_data"
    }
   ],
   "source": [
    "sales_city.plot(kind='bar')\n",
    "plt.title(\"Revenue by City\")\n",
    "plt.xlabel('Cities')\n",
    "plt.ylabel('Revenue')\n",
    "plt.xticks(rotation = 45)\n",
    "plt.show()"
   ]
  },
  {
   "cell_type": "markdown",
   "id": "dc8a667f-bfc2-495e-beeb-39046c0c96db",
   "metadata": {},
   "source": [
    "### Task 3.3: What time should we display ads to maximize the likelihood of customer’s buying product?"
   ]
  },
  {
   "cell_type": "code",
   "execution_count": 45,
   "id": "a7eecea4-c0d9-4b1d-950e-161267c88ce8",
   "metadata": {
    "tags": []
   },
   "outputs": [
    {
     "data": {
      "text/plain": [
       "hour\n",
       "0      3910\n",
       "1      2350\n",
       "2      1243\n",
       "3       831\n",
       "4       854\n",
       "5      1321\n",
       "6      2482\n",
       "7      4011\n",
       "8      6256\n",
       "9      8748\n",
       "10    10944\n",
       "11    12411\n",
       "12    12587\n",
       "13    12129\n",
       "14    10984\n",
       "15    10175\n",
       "16    10384\n",
       "17    10899\n",
       "18    12280\n",
       "19    12905\n",
       "20    12228\n",
       "21    10921\n",
       "22     8822\n",
       "23     6275\n",
       "Name: Order ID, dtype: int64"
      ]
     },
     "execution_count": 45,
     "metadata": {},
     "output_type": "execute_result"
    }
   ],
   "source": [
    "df['hour'] = df['Order Date'].dt.hour\n",
    "\n",
    "sales_hour = df.groupby('hour')['Order ID'].count()\n",
    "sales_hour"
   ]
  },
  {
   "cell_type": "code",
   "execution_count": 53,
   "id": "a7e71cfa-0b37-46f7-a709-6649ded6c85a",
   "metadata": {
    "tags": []
   },
   "outputs": [
    {
     "data": {
      "image/png": "[encoded data removed]",
      "text/plain": [
       "<Figure size 640x480 with 1 Axes>"
      ]
     },
     "metadata": {},
     "output_type": "display_data"
    }
   ],
   "source": [
    "sales_hour.plot(kind='line')\n",
    "plt.grid()\n",
    "plt.xticks(df['hour'].sort_values(ascending=True).unique())\n",
    "plt.show()"
   ]
  },
  {
   "cell_type": "markdown",
   "id": "3729c355-2e28-4b36-8963-7c2b6f744202",
   "metadata": {},
   "source": [
    "### Task 3.4: What products are most often sold together?"
   ]
  },
  {
   "cell_type": "code",
   "execution_count": 67,
   "id": "c125a77a-6131-450e-b84c-f400798d3766",
   "metadata": {
    "tags": []
   },
   "outputs": [],
   "source": [
    "df_dup = df[df['Order ID'].duplicated(keep=False)]"
   ]
  },
  {
   "cell_type": "code",
   "execution_count": 96,
   "id": "6fee902b-7948-4678-b934-393f8149fdd0",
   "metadata": {
    "tags": []
   },
   "outputs": [
    {
     "data": {
      "text/html": [
       "<div>\n",
       "<style scoped>\n",
       "    .dataframe tbody tr th:only-of-type {\n",
       "        vertical-align: middle;\n",
       "    }\n",
       "\n",
       "    .dataframe tbody tr th {\n",
       "        vertical-align: top;\n",
       "    }\n",
       "\n",
       "    .dataframe thead th {\n",
       "        text-align: right;\n",
       "    }\n",
       "</style>\n",
       "<table border=\"1\" class=\"dataframe\">\n",
       "  <thead>\n",
       "    <tr style=\"text-align: right;\">\n",
       "      <th></th>\n",
       "      <th>Order ID</th>\n",
       "      <th>All Product</th>\n",
       "    </tr>\n",
       "  </thead>\n",
       "  <tbody>\n",
       "    <tr>\n",
       "      <th>41</th>\n",
       "      <td>141275</td>\n",
       "      <td>USB-C Charging Cable, Wired Headphones</td>\n",
       "    </tr>\n",
       "    <tr>\n",
       "      <th>57</th>\n",
       "      <td>141290</td>\n",
       "      <td>Apple Airpods Headphones, AA Batteries (4-pack)</td>\n",
       "    </tr>\n",
       "    <tr>\n",
       "      <th>133</th>\n",
       "      <td>141365</td>\n",
       "      <td>Vareebadd Phone, Wired Headphones</td>\n",
       "    </tr>\n",
       "    <tr>\n",
       "      <th>153</th>\n",
       "      <td>141384</td>\n",
       "      <td>Google Phone, USB-C Charging Cable</td>\n",
       "    </tr>\n",
       "    <tr>\n",
       "      <th>220</th>\n",
       "      <td>141450</td>\n",
       "      <td>Google Phone, Bose SoundSport Headphones</td>\n",
       "    </tr>\n",
       "    <tr>\n",
       "      <th>...</th>\n",
       "      <td>...</td>\n",
       "      <td>...</td>\n",
       "    </tr>\n",
       "    <tr>\n",
       "      <th>11617</th>\n",
       "      <td>259296</td>\n",
       "      <td>Apple Airpods Headphones</td>\n",
       "    </tr>\n",
       "    <tr>\n",
       "      <th>11619</th>\n",
       "      <td>259297</td>\n",
       "      <td>iPhone, Lightning Charging Cable</td>\n",
       "    </tr>\n",
       "    <tr>\n",
       "      <th>11627</th>\n",
       "      <td>259303</td>\n",
       "      <td>34in Ultrawide Monitor, AA Batteries (4-pack)</td>\n",
       "    </tr>\n",
       "    <tr>\n",
       "      <th>11639</th>\n",
       "      <td>259314</td>\n",
       "      <td>Wired Headphones, AAA Batteries (4-pack)</td>\n",
       "    </tr>\n",
       "    <tr>\n",
       "      <th>11677</th>\n",
       "      <td>259350</td>\n",
       "      <td>Google Phone, USB-C Charging Cable</td>\n",
       "    </tr>\n",
       "  </tbody>\n",
       "</table>\n",
       "<p>7136 rows × 2 columns</p>\n",
       "</div>"
      ],
      "text/plain": [
       "       Order ID                                      All Product\n",
       "41       141275           USB-C Charging Cable, Wired Headphones\n",
       "57       141290  Apple Airpods Headphones, AA Batteries (4-pack)\n",
       "133      141365                Vareebadd Phone, Wired Headphones\n",
       "153      141384               Google Phone, USB-C Charging Cable\n",
       "220      141450         Google Phone, Bose SoundSport Headphones\n",
       "...         ...                                              ...\n",
       "11617    259296                         Apple Airpods Headphones\n",
       "11619    259297                 iPhone, Lightning Charging Cable\n",
       "11627    259303    34in Ultrawide Monitor, AA Batteries (4-pack)\n",
       "11639    259314         Wired Headphones, AAA Batteries (4-pack)\n",
       "11677    259350               Google Phone, USB-C Charging Cable\n",
       "\n",
       "[7136 rows x 2 columns]"
      ]
     },
     "execution_count": 96,
     "metadata": {},
     "output_type": "execute_result"
    }
   ],
   "source": [
    "df_dup.loc[:,'All Product'] = df_dup.groupby('Order ID')['Product'].transform(lambda x: ', '.join(x))\n",
    "df_dup = df_dup[['Order ID', 'All Product']].drop_duplicates()\n",
    "df_dup"
   ]
  },
  {
   "cell_type": "code",
   "execution_count": 128,
   "id": "8b8faf6e-db3d-4e48-be89-d045d4564609",
   "metadata": {
    "tags": []
   },
   "outputs": [
    {
     "name": "stdout",
     "output_type": "stream",
     "text": [
      "Counter({('iPhone', ' Lightning Charging Cable'): 1002, ('Google Phone', ' USB-C Charging Cable'): 985, ('iPhone', ' Wired Headphones'): 447, ('Google Phone', ' Wired Headphones'): 413, ('Vareebadd Phone', ' USB-C Charging Cable'): 361, ('iPhone', ' Apple Airpods Headphones'): 360, ('Google Phone', ' Bose SoundSport Headphones'): 220, ('Vareebadd Phone', ' Wired Headphones'): 143, (' USB-C Charging Cable', ' Wired Headphones'): 119, ('Vareebadd Phone', ' Bose SoundSport Headphones'): 80, (' Lightning Charging Cable', ' Wired Headphones'): 62, ('Lightning Charging Cable', ' USB-C Charging Cable'): 55, ('Lightning Charging Cable', ' AA Batteries (4-pack)'): 52, ('AA Batteries (4-pack)', ' Lightning Charging Cable'): 51, (' USB-C Charging Cable', ' Bose SoundSport Headphones'): 51, ('AAA Batteries (4-pack)', ' USB-C Charging Cable'): 50, ('AA Batteries (4-pack)', ' AAA Batteries (4-pack)'): 48, (' Lightning Charging Cable', ' Apple Airpods Headphones'): 47, ('Apple Airpods Headphones', ' AAA Batteries (4-pack)'): 45, ('AA Batteries (4-pack)', ' Wired Headphones'): 44, ('AAA Batteries (4-pack)', ' Lightning Charging Cable'): 44, ('Wired Headphones', ' AAA Batteries (4-pack)'): 43, ('AAA Batteries (4-pack)', ' Wired Headphones'): 43, ('Apple Airpods Headphones', ' Wired Headphones'): 42, ('USB-C Charging Cable', ' AAA Batteries (4-pack)'): 42, ('Wired Headphones', ' USB-C Charging Cable'): 42, ('USB-C Charging Cable', ' Lightning Charging Cable'): 41, ('AA Batteries (4-pack)', ' Apple Airpods Headphones'): 41, ('USB-C Charging Cable', ' Wired Headphones'): 40, ('Lightning Charging Cable', ' Bose SoundSport Headphones'): 39, ('AAA Batteries (4-pack)', ' AA Batteries (4-pack)'): 39, ('Bose SoundSport Headphones', ' AAA Batteries (4-pack)'): 37, ('AA Batteries (4-pack)', ' USB-C Charging Cable'): 37, ('Wired Headphones', ' AA Batteries (4-pack)'): 36, ('Wired Headphones', ' Lightning Charging Cable'): 36, ('Apple Airpods Headphones', ' Lightning Charging Cable'): 35, ('USB-C Charging Cable', ' AA Batteries (4-pack)'): 35, ('Lightning Charging Cable', ' AAA Batteries (4-pack)'): 35, ('Lightning Charging Cable', ' Apple Airpods Headphones'): 34, ('AAA Batteries (4-pack)', ' Apple Airpods Headphones'): 33, ('Bose SoundSport Headphones', ' Lightning Charging Cable'): 32, ('USB-C Charging Cable', ' Apple Airpods Headphones'): 31, ('Apple Airpods Headphones', ' Bose SoundSport Headphones'): 31, ('Lightning Charging Cable', ' Wired Headphones'): 30, ('Apple Airpods Headphones', ' AA Batteries (4-pack)'): 29, (' Bose SoundSport Headphones', ' Wired Headphones'): 29, ('Apple Airpods Headphones', ' USB-C Charging Cable'): 29, ('USB-C Charging Cable', ' 27in FHD Monitor'): 29, ('Wired Headphones', ' Apple Airpods Headphones'): 29, ('AA Batteries (4-pack)', ' Bose SoundSport Headphones'): 28, (' Apple Airpods Headphones', ' Wired Headphones'): 27, ('Bose SoundSport Headphones', ' AA Batteries (4-pack)'): 27, ('USB-C Charging Cable', ' Bose SoundSport Headphones'): 26, ('Bose SoundSport Headphones', ' USB-C Charging Cable'): 25, ('Bose SoundSport Headphones', ' Wired Headphones'): 24, ('AAA Batteries (4-pack)', ' 27in FHD Monitor'): 22, ('Wired Headphones', ' Bose SoundSport Headphones'): 21, ('27in FHD Monitor', ' AAA Batteries (4-pack)'): 21, ('AAA Batteries (4-pack)', ' Bose SoundSport Headphones'): 20, ('34in Ultrawide Monitor', ' AA Batteries (4-pack)'): 19, ('AAA Batteries (4-pack)', ' AAA Batteries (4-pack)'): 19, ('34in Ultrawide Monitor', ' Lightning Charging Cable'): 18, ('27in FHD Monitor', ' Lightning Charging Cable'): 18, ('Lightning Charging Cable', ' 27in FHD Monitor'): 18, ('AA Batteries (4-pack)', ' iPhone'): 18, ('Bose SoundSport Headphones', ' Apple Airpods Headphones'): 17, ('Wired Headphones', ' 34in Ultrawide Monitor'): 17, ('iPhone', ' AAA Batteries (4-pack)'): 17, ('Lightning Charging Cable', ' 27in 4K Gaming Monitor'): 17, ('Wired Headphones', ' 27in 4K Gaming Monitor'): 17, ('27in 4K Gaming Monitor', ' Lightning Charging Cable'): 16, ('AA Batteries (4-pack)', ' AA Batteries (4-pack)'): 16, ('ThinkPad Laptop', ' AAA Batteries (4-pack)'): 16, ('AAA Batteries (4-pack)', ' 27in 4K Gaming Monitor'): 15, ('20in Monitor', ' USB-C Charging Cable'): 15, ('34in Ultrawide Monitor', ' USB-C Charging Cable'): 15, ('Lightning Charging Cable', ' 20in Monitor'): 15, ('iPhone', ' USB-C Charging Cable'): 15, ('27in FHD Monitor', ' AA Batteries (4-pack)'): 15, ('27in 4K Gaming Monitor', ' AAA Batteries (4-pack)'): 15, ('AA Batteries (4-pack)', ' 27in 4K Gaming Monitor'): 14, ('Lightning Charging Cable', ' Google Phone'): 14, ('Google Phone', ' AA Batteries (4-pack)'): 14, ('AAA Batteries (4-pack)', ' iPhone'): 14, ('iPhone', ' AA Batteries (4-pack)'): 14, ('Lightning Charging Cable', ' 34in Ultrawide Monitor'): 14, ('Apple Airpods Headphones', ' iPhone'): 13, ('AAA Batteries (4-pack)', ' 34in Ultrawide Monitor'): 13, ('AA Batteries (4-pack)', ' Flatscreen TV'): 13, ('AA Batteries (4-pack)', ' 34in Ultrawide Monitor'): 13, ('Bose SoundSport Headphones', ' 27in FHD Monitor'): 13, ('Wired Headphones', ' iPhone'): 13, ('Apple Airpods Headphones', ' Google Phone'): 13, ('27in FHD Monitor', ' Bose SoundSport Headphones'): 12, ('20in Monitor', ' Wired Headphones'): 12, ('USB-C Charging Cable', ' iPhone'): 12, ('27in 4K Gaming Monitor', ' AA Batteries (4-pack)'): 12, ('USB-C Charging Cable', ' Google Phone'): 12, ('Apple Airpods Headphones', ' Macbook Pro Laptop'): 12, ('27in FHD Monitor', ' Apple Airpods Headphones'): 12, ('27in 4K Gaming Monitor', ' USB-C Charging Cable'): 12, ('27in FHD Monitor', ' USB-C Charging Cable'): 12, ('Macbook Pro Laptop', ' USB-C Charging Cable'): 12, ('Wired Headphones', ' Macbook Pro Laptop'): 12, ('Google Phone', ' Lightning Charging Cable'): 12, ('34in Ultrawide Monitor', ' AAA Batteries (4-pack)'): 12, ('Apple Airpods Headphones', ' 27in FHD Monitor'): 12, ('Apple Airpods Headphones', ' 27in 4K Gaming Monitor'): 12, ('34in Ultrawide Monitor', ' Wired Headphones'): 11, ('USB-C Charging Cable', ' 27in 4K Gaming Monitor'): 11, ('USB-C Charging Cable', ' ThinkPad Laptop'): 11, ('Macbook Pro Laptop', ' Bose SoundSport Headphones'): 11, ('AA Batteries (4-pack)', ' Google Phone'): 11, ('Wired Headphones', ' 27in FHD Monitor'): 11, ('Lightning Charging Cable', ' Flatscreen TV'): 11, ('AAA Batteries (4-pack)', ' Google Phone'): 11, ('AA Batteries (4-pack)', ' 27in FHD Monitor'): 11, ('AAA Batteries (4-pack)', ' ThinkPad Laptop'): 11, ('Flatscreen TV', ' AAA Batteries (4-pack)'): 11, ('Macbook Pro Laptop', ' Lightning Charging Cable'): 11, ('20in Monitor', ' Lightning Charging Cable'): 11, ('AAA Batteries (4-pack)', ' Macbook Pro Laptop'): 11, ('27in 4K Gaming Monitor', ' Wired Headphones'): 11, ('Google Phone', ' AAA Batteries (4-pack)'): 11, ('ThinkPad Laptop', ' Lightning Charging Cable'): 11, ('Wired Headphones', ' ThinkPad Laptop'): 10, ('AAA Batteries (4-pack)', ' Flatscreen TV'): 10, ('USB-C Charging Cable', ' 20in Monitor'): 10, ('Lightning Charging Cable', ' Macbook Pro Laptop'): 10, ('Flatscreen TV', ' Lightning Charging Cable'): 10, ('Bose SoundSport Headphones', ' 27in 4K Gaming Monitor'): 10, ('27in FHD Monitor', ' Wired Headphones'): 10, ('Bose SoundSport Headphones', ' 34in Ultrawide Monitor'): 10, ('USB-C Charging Cable', ' Flatscreen TV'): 10, ('27in 4K Gaming Monitor', ' Apple Airpods Headphones'): 10, ('AA Batteries (4-pack)', ' 20in Monitor'): 10, ('USB-C Charging Cable', ' 34in Ultrawide Monitor'): 10, ('20in Monitor', ' Bose SoundSport Headphones'): 9, ('Macbook Pro Laptop', ' AA Batteries (4-pack)'): 9, ('Apple Airpods Headphones', ' ThinkPad Laptop'): 9, ('AA Batteries (4-pack)', ' ThinkPad Laptop'): 9, ('ThinkPad Laptop', ' USB-C Charging Cable'): 9, ('27in 4K Gaming Monitor', ' Bose SoundSport Headphones'): 9, ('USB-C Charging Cable', ' Macbook Pro Laptop'): 9, ('Lightning Charging Cable', ' iPhone'): 9, ('Lightning Charging Cable', ' ThinkPad Laptop'): 9, ('Bose SoundSport Headphones', ' Flatscreen TV'): 9, ('Vareebadd Phone', ' AA Batteries (4-pack)'): 9, ('ThinkPad Laptop', ' Bose SoundSport Headphones'): 9, ('Bose SoundSport Headphones', ' Google Phone'): 8, ('Flatscreen TV', ' AA Batteries (4-pack)'): 8, ('Apple Airpods Headphones', ' Flatscreen TV'): 8, ('34in Ultrawide Monitor', ' Apple Airpods Headphones'): 8, ('AA Batteries (4-pack)', ' Macbook Pro Laptop'): 8, ('AAA Batteries (4-pack)', ' 20in Monitor'): 8, ('ThinkPad Laptop', ' AA Batteries (4-pack)'): 8, ('Wired Headphones', ' Google Phone'): 8, ('Google Phone', ' Apple Airpods Headphones'): 7, ('Flatscreen TV', ' USB-C Charging Cable'): 7, ('Macbook Pro Laptop', ' AAA Batteries (4-pack)'): 7, ('Macbook Pro Laptop', ' Wired Headphones'): 7, ('Wired Headphones', ' 20in Monitor'): 7, ('Macbook Pro Laptop', ' 27in 4K Gaming Monitor'): 7, ('34in Ultrawide Monitor', ' iPhone'): 7, ('20in Monitor', ' Apple Airpods Headphones'): 7, ('Wired Headphones', ' Flatscreen TV'): 7, ('Bose SoundSport Headphones', ' iPhone'): 7, ('ThinkPad Laptop', ' Apple Airpods Headphones'): 7, ('Macbook Pro Laptop', ' Apple Airpods Headphones'): 7, ('Google Phone', ' 27in FHD Monitor'): 7, ('Google Phone', ' iPhone'): 6, ('Bose SoundSport Headphones', ' 20in Monitor'): 6, ('Apple Airpods Headphones', ' Vareebadd Phone'): 6, ('27in 4K Gaming Monitor', ' 34in Ultrawide Monitor'): 6, ('iPhone', ' Flatscreen TV'): 6, ('20in Monitor', ' AA Batteries (4-pack)'): 6, ('Lightning Charging Cable', ' Lightning Charging Cable'): 6, ('34in Ultrawide Monitor', ' Bose SoundSport Headphones'): 6, ('27in FHD Monitor', ' Macbook Pro Laptop'): 6, ('Wired Headphones', ' Vareebadd Phone'): 6, ('iPhone', ' 27in 4K Gaming Monitor'): 6, ('27in 4K Gaming Monitor', ' Macbook Pro Laptop'): 6, ('Vareebadd Phone', ' Apple Airpods Headphones'): 6, ('Apple Airpods Headphones', ' 20in Monitor'): 6, ('iPhone', ' 34in Ultrawide Monitor'): 6, ('USB-C Charging Cable', ' Vareebadd Phone'): 6, ('Apple Airpods Headphones', ' 34in Ultrawide Monitor'): 6, ('Flatscreen TV', ' Apple Airpods Headphones'): 5, ('Flatscreen TV', ' 34in Ultrawide Monitor'): 5, ('27in 4K Gaming Monitor', ' Google Phone'): 5, ('34in Ultrawide Monitor', ' 27in FHD Monitor'): 5, ('27in FHD Monitor', ' 34in Ultrawide Monitor'): 5, ('iPhone', ' Bose SoundSport Headphones'): 5, ('Bose SoundSport Headphones', ' Macbook Pro Laptop'): 4, ('LG Dryer', ' AA Batteries (4-pack)'): 4, ('27in FHD Monitor', ' 27in 4K Gaming Monitor'): 4, ('Flatscreen TV', ' Wired Headphones'): 4, ('27in FHD Monitor', ' ThinkPad Laptop'): 4, ('Macbook Pro Laptop', ' Google Phone'): 4, ('Flatscreen TV', ' Macbook Pro Laptop'): 4, ('AAA Batteries (4-pack)', ' Vareebadd Phone'): 4, ('27in 4K Gaming Monitor', ' 27in FHD Monitor'): 4, ('Macbook Pro Laptop', ' 34in Ultrawide Monitor'): 4, ('ThinkPad Laptop', ' Flatscreen TV'): 4, ('Bose SoundSport Headphones', ' ThinkPad Laptop'): 4, ('Lightning Charging Cable', ' LG Washing Machine'): 4, ('Vareebadd Phone', ' 34in Ultrawide Monitor'): 4, ('Flatscreen TV', ' iPhone'): 4, ('Vareebadd Phone', ' Google Phone'): 4, ('iPhone', ' ThinkPad Laptop'): 4, ('27in 4K Gaming Monitor', ' ThinkPad Laptop'): 4, ('ThinkPad Laptop', ' Wired Headphones'): 4, ('20in Monitor', ' Macbook Pro Laptop'): 4, ('LG Washing Machine', ' AAA Batteries (4-pack)'): 4, ('Flatscreen TV', ' 27in FHD Monitor'): 4, ('USB-C Charging Cable', ' USB-C Charging Cable'): 4, ('iPhone', ' Vareebadd Phone'): 4, ('27in 4K Gaming Monitor', ' iPhone'): 3, (' USB-C Charging Cable', ' AA Batteries (4-pack)'): 3, (' USB-C Charging Cable', ' Apple Airpods Headphones'): 3, ('Flatscreen TV', ' Google Phone'): 3, ('34in Ultrawide Monitor', ' ThinkPad Laptop'): 3, ('Macbook Pro Laptop', ' ThinkPad Laptop'): 3, (' Lightning Charging Cable', ' USB-C Charging Cable'): 3, ('iPhone', ' Macbook Pro Laptop'): 3, ('27in FHD Monitor', ' 20in Monitor'): 3, ('34in Ultrawide Monitor', ' Macbook Pro Laptop'): 3, ('Vareebadd Phone', ' Flatscreen TV'): 3, ('Flatscreen TV', ' Bose SoundSport Headphones'): 3, ('Google Phone', ' ThinkPad Laptop'): 3, (' Apple Airpods Headphones', ' AAA Batteries (4-pack)'): 3, ('Macbook Pro Laptop', ' 27in FHD Monitor'): 3, (' Lightning Charging Cable', ' AA Batteries (4-pack)'): 3, ('20in Monitor', ' AAA Batteries (4-pack)'): 3, ('Google Phone', ' Macbook Pro Laptop'): 3, (' USB-C Charging Cable', ' AAA Batteries (4-pack)'): 3, ('Vareebadd Phone', ' iPhone'): 3, ('Apple Airpods Headphones', ' LG Dryer'): 3, ('ThinkPad Laptop', ' iPhone'): 3, (' Wired Headphones', ' AA Batteries (4-pack)'): 3, ('Macbook Pro Laptop', ' iPhone'): 3, ('Wired Headphones', ' LG Washing Machine'): 3, ('Google Phone', ' 34in Ultrawide Monitor'): 3, ('AA Batteries (4-pack)', ' Vareebadd Phone'): 3, ('iPhone', ' Google Phone'): 3, ('27in 4K Gaming Monitor', ' Flatscreen TV'): 3, ('ThinkPad Laptop', ' Google Phone'): 3, ('34in Ultrawide Monitor', ' Flatscreen TV'): 3, ('LG Washing Machine', ' Bose SoundSport Headphones'): 2, ('AA Batteries (4-pack)', ' LG Dryer'): 2, ('Vareebadd Phone', ' AAA Batteries (4-pack)'): 2, ('Macbook Pro Laptop', ' LG Washing Machine'): 2, ('Google Phone', ' 20in Monitor'): 2, ('20in Monitor', ' Google Phone'): 2, ('iPhone', ' 20in Monitor'): 2, (' USB-C Charging Cable', ' iPhone'): 2, (' Wired Headphones', ' iPhone'): 2, ('Bose SoundSport Headphones', ' Vareebadd Phone'): 2, ('Lightning Charging Cable', ' Vareebadd Phone'): 2, ('Flatscreen TV', ' ThinkPad Laptop'): 2, ('ThinkPad Laptop', ' 27in FHD Monitor'): 2, ('20in Monitor', ' 27in FHD Monitor'): 2, ('ThinkPad Laptop', ' Macbook Pro Laptop'): 2, ('Vareebadd Phone', ' ThinkPad Laptop'): 2, ('20in Monitor', ' ThinkPad Laptop'): 2, (' Wired Headphones', ' Apple Airpods Headphones'): 2, (' Wired Headphones', ' USB-C Charging Cable'): 2, ('27in FHD Monitor', ' LG Dryer'): 2, (' Lightning Charging Cable', ' Google Phone'): 2, ('Vareebadd Phone', ' 27in 4K Gaming Monitor'): 2, ('27in 4K Gaming Monitor', ' 20in Monitor'): 2, ('LG Washing Machine', ' Lightning Charging Cable'): 2, ('34in Ultrawide Monitor', ' Google Phone'): 2, ('Macbook Pro Laptop', ' 20in Monitor'): 2, ('Lightning Charging Cable', ' LG Dryer'): 2, ('Flatscreen TV', ' 27in 4K Gaming Monitor'): 2, (' USB-C Charging Cable', ' 27in FHD Monitor'): 2, ('Wired Headphones', ' Wired Headphones'): 2, ('27in FHD Monitor', ' Flatscreen TV'): 2, ('LG Dryer', ' Flatscreen TV'): 1, ('LG Dryer', ' AAA Batteries (4-pack)'): 1, ('ThinkPad Laptop', ' 34in Ultrawide Monitor'): 1, ('iPhone', ' LG Washing Machine'): 1, (' Bose SoundSport Headphones', ' Lightning Charging Cable'): 1, (' Bose SoundSport Headphones', ' Flatscreen TV'): 1, (' Lightning Charging Cable', ' Flatscreen TV'): 1, ('AAA Batteries (4-pack)', ' LG Dryer'): 1, ('LG Dryer', ' 27in 4K Gaming Monitor'): 1, ('27in FHD Monitor', ' Google Phone'): 1, ('iPhone', ' 27in FHD Monitor'): 1, (' USB-C Charging Cable', ' Lightning Charging Cable'): 1, (' Lightning Charging Cable', ' AAA Batteries (4-pack)'): 1, ('Macbook Pro Laptop', ' Flatscreen TV'): 1, ('ThinkPad Laptop', ' Vareebadd Phone'): 1, (' USB-C Charging Cable', ' 34in Ultrawide Monitor'): 1, (' Bose SoundSport Headphones', ' 34in Ultrawide Monitor'): 1, ('Google Phone', ' Flatscreen TV'): 1, ('LG Washing Machine', ' Google Phone'): 1, ('LG Washing Machine', ' Wired Headphones'): 1, (' Apple Airpods Headphones', ' Google Phone'): 1, (' Wired Headphones', ' Google Phone'): 1, (' Wired Headphones', ' 27in 4K Gaming Monitor'): 1, (' Lightning Charging Cable', ' 27in 4K Gaming Monitor'): 1, ('27in FHD Monitor', ' Vareebadd Phone'): 1, ('LG Washing Machine', ' 27in 4K Gaming Monitor'): 1, (' Apple Airpods Headphones', ' Bose SoundSport Headphones'): 1, ('LG Washing Machine', ' Apple Airpods Headphones'): 1, ('27in 4K Gaming Monitor', ' LG Dryer'): 1, ('20in Monitor', ' LG Washing Machine'): 1, ('LG Dryer', ' Google Phone'): 1, ('27in 4K Gaming Monitor', ' Vareebadd Phone'): 1, (' Lightning Charging Cable', ' Vareebadd Phone'): 1, ('27in FHD Monitor', ' iPhone'): 1, ('Vareebadd Phone', ' Lightning Charging Cable'): 1, ('Vareebadd Phone', ' 27in FHD Monitor'): 1, ('ThinkPad Laptop', ' 27in 4K Gaming Monitor'): 1, ('20in Monitor', ' Flatscreen TV'): 1, ('USB-C Charging Cable', ' LG Dryer'): 1, (' Wired Headphones', ' Lightning Charging Cable'): 1, (' Bose SoundSport Headphones', ' Apple Airpods Headphones'): 1, ('LG Washing Machine', ' 20in Monitor'): 1, ('Flatscreen TV', ' 20in Monitor'): 1, ('34in Ultrawide Monitor', ' LG Washing Machine'): 1, ('Google Phone', ' 27in 4K Gaming Monitor'): 1, ('LG Washing Machine', ' iPhone'): 1, ('LG Dryer', ' Wired Headphones'): 1, (' Lightning Charging Cable', ' 34in Ultrawide Monitor'): 1, (' Bose SoundSport Headphones', ' 27in FHD Monitor'): 1, ('27in FHD Monitor', ' LG Washing Machine'): 1, ('LG Dryer', ' 27in FHD Monitor'): 1, ('20in Monitor', ' 34in Ultrawide Monitor'): 1, (' Wired Headphones', ' Macbook Pro Laptop'): 1, ('34in Ultrawide Monitor', ' 20in Monitor'): 1, (' Wired Headphones', ' 27in FHD Monitor'): 1, ('Google Phone', ' Vareebadd Phone'): 1, (' USB-C Charging Cable', ' Vareebadd Phone'): 1, ('20in Monitor', ' iPhone'): 1, ('LG Dryer', ' Vareebadd Phone'): 1, ('LG Dryer', ' Lightning Charging Cable'): 1, ('ThinkPad Laptop', ' LG Dryer'): 1, ('LG Washing Machine', ' AA Batteries (4-pack)'): 1})\n"
     ]
    }
   ],
   "source": [
    "from itertools import combinations\n",
    "from collections import Counter\n",
    "\n",
    "count = Counter()\n",
    "\n",
    "for products in df_dup['All Product']:\n",
    "    product_list = products.split(\",\")\n",
    "    count.update(Counter(combinations(product_list, 2)))\n",
    "\n",
    "print(count)"
   ]
  },
  {
   "cell_type": "code",
   "execution_count": 101,
   "id": "116c6aa0-f267-473e-9df9-6cc867333dd5",
   "metadata": {
    "tags": []
   },
   "outputs": [
    {
     "name": "stdout",
     "output_type": "stream",
     "text": [
      "('iPhone', ' Lightning Charging Cable') 1002\n",
      "('Google Phone', ' USB-C Charging Cable') 985\n",
      "('iPhone', ' Wired Headphones') 447\n",
      "('Google Phone', ' Wired Headphones') 413\n",
      "('Vareebadd Phone', ' USB-C Charging Cable') 361\n",
      "('iPhone', ' Apple Airpods Headphones') 360\n",
      "('Google Phone', ' Bose SoundSport Headphones') 220\n",
      "('Vareebadd Phone', ' Wired Headphones') 143\n",
      "(' USB-C Charging Cable', ' Wired Headphones') 119\n",
      "('Vareebadd Phone', ' Bose SoundSport Headphones') 80\n"
     ]
    }
   ],
   "source": [
    "for key, value in count.most_common(10):\n",
    "    print(key, value)"
   ]
  },
  {
   "cell_type": "code",
   "execution_count": 132,
   "id": "a02c494c-5941-4813-a112-9833bb05b80d",
   "metadata": {
    "tags": []
   },
   "outputs": [
    {
     "data": {
      "image/png": "[encoded data removed]",
      "text/plain": [
       "<Figure size 640x480 with 1 Axes>"
      ]
     },
     "metadata": {},
     "output_type": "display_data"
    }
   ],
   "source": [
    "c = pd.DataFrame(count.most_common(10))\n",
    "c.set_index(0, inplace = True)\n",
    "c.rename(columns = {1: 'Frequency'}, inplace = True)\n",
    "c.plot(kind = 'bar')\n",
    "for i, value in enumerate(c['Frequency']):\n",
    "    plt.text(i, value + 2, str(value), ha='center')\n",
    "plt.title('Top 10 Product Pair Most Common')\n",
    "plt.xlabel('Pair')\n",
    "plt.ylabel('Frequency')\n",
    "plt.xticks(rotation = 90, size = 8)\n",
    "plt.show()"
   ]
  },
  {
   "cell_type": "markdown",
   "id": "552ddc8c-cf77-4276-b1d6-d3cd91cbbfe4",
   "metadata": {},
   "source": [
    "### Task 3.5: What product sold the most? Why do you think it sold the most?"
   ]
  },
  {
   "cell_type": "code",
   "execution_count": 163,
   "id": "b65d77df-0f0f-4382-9308-a759da9a04b6",
   "metadata": {
    "tags": []
   },
   "outputs": [],
   "source": [
    "sales_quan = df.groupby('Product')['Quantity Ordered'].sum()\n",
    "sales_price = df.groupby('Product')['Price Each'].mean()"
   ]
  },
  {
   "cell_type": "code",
   "execution_count": 173,
   "id": "27377e6a-1a1e-4e89-a2f1-60584e3a02c6",
   "metadata": {
    "tags": []
   },
   "outputs": [
    {
     "name": "stderr",
     "output_type": "stream",
     "text": [
      "C:\\Users\\ADMIN\\AppData\\Local\\Temp\\ipykernel_19316\\95703600.py:11: UserWarning: FixedFormatter should only be used together with FixedLocator\n",
      "  ax1.set_xticklabels(sales_quan.index, rotation=90, size=8)\n"
     ]
    },
    {
     "data": {
      "image/png": "[encoded data removed]",
      "text/plain": [
       "<Figure size 640x480 with 2 Axes>"
      ]
     },
     "metadata": {},
     "output_type": "display_data"
    }
   ],
   "source": [
    "x = sales_quan.index\n",
    "y1 = sales_quan\n",
    "y2 = sales_price\n",
    "\n",
    "fig, ax1 = plt.subplots()\n",
    "\n",
    "ax2 = ax1.twinx()\n",
    "ax1.bar(x, y1, color='b')\n",
    "ax2.plot(x, y2, 'r')\n",
    "\n",
    "ax1.set_xticklabels(sales_quan.index, rotation=90, size=8)\n",
    "ax1.set_xlabel('Products')\n",
    "ax1.set_ylabel('Quantity Ordered', color='b')\n",
    "ax2.set_ylabel('Price Each', color='r')\n",
    "\n",
    "plt.show()"
   ]
  },
  {
   "cell_type": "code",
   "execution_count": null,
   "id": "fd243f74-23ab-42a3-9553-c3bbb1d26cc3",
   "metadata": {},
   "outputs": [],
   "source": []
  }
 ],
 "metadata": {
  "kernelspec": {
   "display_name": "Python 3 (ipykernel)",
   "language": "python",
   "name": "python3"
  },
  "language_info": {
   "codemirror_mode": {
    "name": "ipython",
    "version": 3
   },
   "file_extension": ".py",
   "mimetype": "text/x-python",
   "name": "python",
   "nbconvert_exporter": "python",
   "pygments_lexer": "ipython3",
   "version": "3.11.5"
  }
 },
 "nbformat": 4,
 "nbformat_minor": 5
}
